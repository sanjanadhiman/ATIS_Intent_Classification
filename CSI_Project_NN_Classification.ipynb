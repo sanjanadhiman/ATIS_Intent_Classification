{
 "cells": [
  {
   "cell_type": "code",
   "execution_count": 19,
   "id": "02242e6c",
   "metadata": {},
   "outputs": [],
   "source": [
    "####### Importing Libraries and Packages required #######\n",
    "\n",
    "import pickle\n",
    "import pandas as pd \n",
    "import numpy as np\n",
    "import matplotlib.pyplot as plt\n",
    "%matplotlib inline\n",
    "import warnings\n",
    "warnings.filterwarnings('ignore')\n",
    "pd.set_option('display.max_columns', None)\n",
    "pd.set_option('display.max_rows', None)\n",
    "from sklearn.model_selection import train_test_split\n",
    "from scipy import spatial\n",
    "from nltk.corpus import stopwords\n",
    "from nltk.tokenize import word_tokenize\n",
    "from sklearn import preprocessing\n",
    "from tensorflow.keras.preprocessing.sequence import pad_sequences\n",
    "from keras.preprocessing.text import Tokenizer\n",
    "from keras.utils.np_utils import to_categorical\n",
    "from keras.layers import Embedding\n",
    "from keras.layers import Flatten, LSTM, Conv1D, MaxPooling1D, Dropout, Activation\n",
    "from keras.layers import Input, Dense\n",
    "from keras.models import Sequential\n",
    "from sklearn.metrics import classification_report, precision_recall_fscore_support, confusion_matrix, accuracy_score\n",
    "from sklearn.manifold import TSNE"
   ]
  },
  {
   "cell_type": "code",
   "execution_count": 20,
   "id": "8cb40570",
   "metadata": {},
   "outputs": [],
   "source": [
    "## Reading data from the file ##\n",
    "\n",
    "# Train_Data\n",
    "train_data = pd.read_csv(r'C:\\Users\\dell\\Downloads\\Clustering_Assignment\\Final Project\\atis_intents_train.csv', header=None)\n",
    "train_data.rename(columns={0:'Label', 1:'Text'}, inplace=True)\n",
    "\n",
    "# Test Data\n",
    "test_data = pd.read_csv(r'C:\\Users\\dell\\Downloads\\Clustering_Assignment\\Final Project\\atis_intents_test.csv',header=None)\n",
    "test_data.rename(columns={0:'Label', 1:'Text'}, inplace=True)"
   ]
  },
  {
   "cell_type": "markdown",
   "id": "6fb7eeef",
   "metadata": {},
   "source": [
    "### Data Preparation"
   ]
  },
  {
   "cell_type": "code",
   "execution_count": 23,
   "id": "57ceadd0",
   "metadata": {},
   "outputs": [],
   "source": [
    "########### Preparation of the Data #############\n",
    "\n",
    "def pre_process(data):\n",
    "    \n",
    "    # Removing stopwords and numbers \n",
    "    words = set(stopwords.words('english'))\n",
    "    data['Text']=data['Text'].apply(lambda x:' '.join([word for word in x.split()if word not in (words)]))\n",
    "    data['Text']= data['Text'].str.replace('\\d+','')\n",
    "\n",
    "    text = data['Text']\n",
    "    labels = data['Label']\n",
    "    \n",
    "    return text,labels\n",
    "\n",
    "# Function for Pre-processing of Data\n",
    "train_text, train_labels = pre_process(train_data)\n",
    "test_text, test_labels = pre_process(test_data)"
   ]
  },
  {
   "cell_type": "code",
   "execution_count": 25,
   "id": "a38c06c4",
   "metadata": {},
   "outputs": [
    {
     "name": "stdout",
     "output_type": "stream",
     "text": [
      "Max Input Size: 25 \n",
      "Train: (4834, 25)  Test: (800, 25)\n"
     ]
    }
   ],
   "source": [
    "########### Encoding the Data #############\n",
    "    \n",
    "# t = Tokenizer()\n",
    "# t.fit_on_texts(train_text)\n",
    "# print('Word Index/Vocabulary size :', len(t.word_index))\n",
    "# word_index = t.word_index\n",
    "\n",
    "def token(data):\n",
    "    t = Tokenizer()\n",
    "    t.fit_on_texts(data)\n",
    "    return t\n",
    "\n",
    "input_length = 25\n",
    "print('Max Input Size: 25 ')\n",
    "\n",
    "t=token(train_text)\n",
    "word_index = t.word_index\n",
    "\n",
    "## Storing the tokenzier file ##\n",
    "with open(r'C:\\Users\\dell\\Documents\\Final_Project_Demo\\t.pkl','wb') as model_pkl:\n",
    "    pickle.dump(t, model_pkl, protocol=2)\n",
    "\n",
    "## Tokenizing and creating sequences in the train data ##\n",
    "train_data_tokens = t.texts_to_sequences(train_text)\n",
    "train_input = pad_sequences(train_data_tokens, input_length)\n",
    "\n",
    "## Tokenizing and creating sequences in the test data ##\n",
    "test_data_tokens = t.texts_to_sequences(test_text)\n",
    "test_input = pad_sequences(test_data_tokens,input_length)\n",
    "\n",
    "max_vocab_size = len(word_index)+1\n",
    "print('Train:',train_input.shape,' Test:',test_input.shape)"
   ]
  },
  {
   "cell_type": "code",
   "execution_count": 26,
   "id": "0601e4fa",
   "metadata": {},
   "outputs": [],
   "source": [
    "########### Encoding the Labels #############\n",
    "\n",
    "label_transformer = preprocessing.LabelEncoder()\n",
    "label_transformer.fit(train_labels)\n",
    "\n",
    "## Storing the pickle file for encoder label ##\n",
    "with open(r'C:\\Users\\dell\\Downloads\\Clustering_Assignment\\Final Project\\le.pkl','wb') as model_pkl:\n",
    "    pickle.dump(label_transformer, model_pkl, protocol=2)\n",
    "\n",
    "train_labels = label_transformer.transform(train_labels)\n",
    "test_labels = label_transformer.transform(test_labels)\n",
    "\n",
    "train_labels = to_categorical(np.asarray(train_labels))\n",
    "test_labels = to_categorical(np.asarray(test_labels))"
   ]
  },
  {
   "cell_type": "code",
   "execution_count": 27,
   "id": "aaf7dbdd",
   "metadata": {},
   "outputs": [],
   "source": [
    "## Creating a Validation Set ##\n",
    "X_train, X_val, y_train, y_val  = train_test_split(train_input, train_labels, test_size=0.2, random_state=42)"
   ]
  },
  {
   "cell_type": "markdown",
   "id": "b74f42dc",
   "metadata": {},
   "source": [
    "#### Extracting Word Embeddings and creating an embedding matrix (Glove Embedding)"
   ]
  },
  {
   "cell_type": "code",
   "execution_count": 28,
   "id": "50d39edc",
   "metadata": {},
   "outputs": [],
   "source": [
    "## Extracting Word Embeddings using Glove ##\n",
    "\n",
    "dim = 300\n",
    "embedded_index = dict()\n",
    "with open (r'C:\\Users\\dell\\Downloads\\Clustering_Assignment\\Final Project\\glove.42B.300d.txt\\glove.42B.300d.txt','r',encoding='utf8') as glove : \n",
    "    for line in glove:\n",
    "        values = line.split()\n",
    "        word = values[0]\n",
    "        vector = np.asarray(values[1:],dtype='float32')\n",
    "        embedded_index[word] = vector        \n",
    "glove.close()"
   ]
  },
  {
   "cell_type": "code",
   "execution_count": 29,
   "id": "5e1258bf",
   "metadata": {},
   "outputs": [],
   "source": [
    "## Creating an Embedding Matrix ##\n",
    "embedded_mat = np.zeros((max_vocab_size, dim))\n",
    "\n",
    "for i,j in word_index.items():\n",
    "    vector = embedded_index.get(i)\n",
    "    if vector is not None:\n",
    "        embedded_mat[j] = vector"
   ]
  },
  {
   "cell_type": "code",
   "execution_count": 30,
   "id": "c1356be1",
   "metadata": {},
   "outputs": [
    {
     "name": "stdout",
     "output_type": "stream",
     "text": [
      "['plane', 'flying', 'airline', 'airplane', 'flights', 'pilots', 'fly', 'flew', 'appelectric', 'pilot', 'airlines', 'aircraft', 'landing', 'trip']\n"
     ]
    }
   ],
   "source": [
    "### Visualizing Word Embeddings Using T-SNE ##\n",
    "def similarity(embedding):\n",
    "    return sorted(embedded_index.keys(), key=lambda x: spatial.distance.euclidean(embedded_index[x],embedding))\n",
    "\n",
    "exam_flight = similarity(embedded_index['flight'])[1:15]\n",
    "print(exam_flight)"
   ]
  },
  {
   "cell_type": "code",
   "execution_count": 31,
   "id": "bc7ff479",
   "metadata": {},
   "outputs": [
    {
     "data": {
      "image/png": "[encoded data removed]",
      "text/plain": [
       "<Figure size 432x288 with 1 Axes>"
      ]
     },
     "metadata": {
      "needs_background": "light"
     },
     "output_type": "display_data"
    }
   ],
   "source": [
    "## t-distributed stochastic neighbor embedding ##\n",
    "tsne = TSNE(n_components=2, random_state=0)\n",
    "vectorized = [embedded_index[word] for words in exam_flight]\n",
    "Y = tsne.fit_transform(vectorized)\n",
    "\n",
    "## Plotting the example ##\n",
    "fig, ax = plt.subplots()\n",
    "ax.plot(Y[:, 0], Y[:, 1], 'o')\n",
    "ax.set_title('Eucledian Distance of Words Relating to \"Flight\"')\n",
    "for i, word in enumerate(exam_flight):\n",
    "     plt.annotate(word, xy=(Y[i, 0], Y[i, 1]))"
   ]
  },
  {
   "cell_type": "markdown",
   "id": "92c30a1b",
   "metadata": {},
   "source": [
    "### Model Building"
   ]
  },
  {
   "cell_type": "code",
   "execution_count": 32,
   "id": "202b3973",
   "metadata": {},
   "outputs": [],
   "source": [
    "########### Model Building #############\n",
    "\n",
    "def model_data(mat, input_length):\n",
    "    model = Sequential()\n",
    "    model.add(Embedding(max_vocab_size, 300, input_length= input_length, weights=[mat],trainable=False))\n",
    "    model.add(Conv1D(filters=32, kernel_size=8, activation='selu'))\n",
    "    model.add(MaxPooling1D(pool_size=2))\n",
    "    model.add(Flatten())\n",
    "    model.add(Dense(10, activation='selu'))\n",
    "    model.add(Dense(8, activation='sigmoid'))\n",
    "    print(model.summary())\n",
    "    return model"
   ]
  },
  {
   "cell_type": "code",
   "execution_count": 33,
   "id": "97fa4d54",
   "metadata": {},
   "outputs": [
    {
     "name": "stdout",
     "output_type": "stream",
     "text": [
      "Model: \"sequential\"\n",
      "_________________________________________________________________\n",
      " Layer (type)                Output Shape              Param #   \n",
      "=================================================================\n",
      " embedding (Embedding)       (None, 25, 300)           189600    \n",
      "                                                                 \n",
      " conv1d (Conv1D)             (None, 18, 32)            76832     \n",
      "                                                                 \n",
      " max_pooling1d (MaxPooling1D  (None, 9, 32)            0         \n",
      " )                                                               \n",
      "                                                                 \n",
      " flatten (Flatten)           (None, 288)               0         \n",
      "                                                                 \n",
      " dense (Dense)               (None, 10)                2890      \n",
      "                                                                 \n",
      " dense_1 (Dense)             (None, 8)                 88        \n",
      "                                                                 \n",
      "=================================================================\n",
      "Total params: 269,410\n",
      "Trainable params: 79,810\n",
      "Non-trainable params: 189,600\n",
      "_________________________________________________________________\n",
      "None\n",
      "Epoch 1/5\n",
      "121/121 - 5s - loss: 0.5717 - accuracy: 0.8518 - 5s/epoch - 45ms/step\n",
      "Epoch 2/5\n",
      "121/121 - 2s - loss: 0.2054 - accuracy: 0.9506 - 2s/epoch - 16ms/step\n",
      "Epoch 3/5\n",
      "121/121 - 2s - loss: 0.0868 - accuracy: 0.9814 - 2s/epoch - 15ms/step\n",
      "Epoch 4/5\n",
      "121/121 - 2s - loss: 0.0427 - accuracy: 0.9909 - 2s/epoch - 15ms/step\n",
      "Epoch 5/5\n",
      "121/121 - 2s - loss: 0.0226 - accuracy: 0.9961 - 2s/epoch - 16ms/step\n"
     ]
    },
    {
     "data": {
      "text/plain": [
       "<keras.callbacks.History at 0x1cee415ab80>"
      ]
     },
     "execution_count": 33,
     "metadata": {},
     "output_type": "execute_result"
    }
   ],
   "source": [
    "## Fitting the model on train data ##\n",
    "model=model_data(embedded_mat, input_length)\n",
    "model.compile(loss='categorical_crossentropy', optimizer='adam', metrics=['accuracy'])\n",
    "\n",
    "model.fit(X_train,y_train, epochs=5, verbose=2)"
   ]
  },
  {
   "cell_type": "code",
   "execution_count": 34,
   "id": "4c53ddf7",
   "metadata": {},
   "outputs": [
    {
     "name": "stdout",
     "output_type": "stream",
     "text": [
      "31/31 [==============================] - 1s 14ms/step - loss: 0.1015 - accuracy: 0.9721\n"
     ]
    },
    {
     "data": {
      "text/plain": [
       "[0.10151144862174988, 0.9720786213874817]"
      ]
     },
     "execution_count": 34,
     "metadata": {},
     "output_type": "execute_result"
    }
   ],
   "source": [
    "## Results on Validation Set ##\n",
    "model.evaluate(X_val,y_val)"
   ]
  },
  {
   "cell_type": "markdown",
   "id": "1da924f3",
   "metadata": {},
   "source": [
    "### Evaluation Results"
   ]
  },
  {
   "cell_type": "code",
   "execution_count": 35,
   "id": "1fbc056c",
   "metadata": {},
   "outputs": [
    {
     "name": "stdout",
     "output_type": "stream",
     "text": [
      "25/25 [==============================] - 3s 6ms/step\n",
      "Accuracy Score (Test Data): 0.99125\n"
     ]
    }
   ],
   "source": [
    "## Results on Test Data ##\n",
    "def acc(y_true, y_pred):\n",
    "    return np.equal(np.argmax(y_true, axis=-1), np.argmax(y_pred, axis=-1)).mean()\n",
    "\n",
    "## Accuracy for Test Data \n",
    "predictions = model.predict(test_input)\n",
    "print('Accuracy Score (Test Data):', acc(test_labels, predictions))"
   ]
  },
  {
   "cell_type": "code",
   "execution_count": 37,
   "id": "22c87e79",
   "metadata": {},
   "outputs": [
    {
     "name": "stdout",
     "output_type": "stream",
     "text": [
      "Saved Successfully!\n"
     ]
    }
   ],
   "source": [
    "# Saving model file\n",
    "model.save(r'C:\\Users\\dell\\Documents\\Final_Project_Demo\\model.h5')\n",
    "print('Saved Successfully!')"
   ]
  },
  {
   "cell_type": "code",
   "execution_count": 59,
   "id": "dca6c495",
   "metadata": {},
   "outputs": [],
   "source": [
    "### Example ###"
   ]
  },
  {
   "cell_type": "code",
   "execution_count": 60,
   "id": "4f4734ff",
   "metadata": {},
   "outputs": [
    {
     "name": "stdout",
     "output_type": "stream",
     "text": [
      "1/1 [==============================] - 0s 37ms/step\n"
     ]
    }
   ],
   "source": [
    "te_data=['What is my airfare for the flight to chicago?']\n",
    "test_data_tokens = token(train_text).texts_to_sequences(te_data)\n",
    "test_input = pad_sequences(test_data_tokens,25)\n",
    "y_pred= model.predict(test_input)"
   ]
  },
  {
   "cell_type": "code",
   "execution_count": 61,
   "id": "00ab7b72",
   "metadata": {},
   "outputs": [
    {
     "data": {
      "text/plain": [
       "array(['atis_airfare'], dtype=object)"
      ]
     },
     "execution_count": 61,
     "metadata": {},
     "output_type": "execute_result"
    }
   ],
   "source": [
    "y_hat = label_transformer.inverse_transform(np.argmax(y_pred,axis = 1)) \n",
    "y_hat"
   ]
  },
  {
   "cell_type": "code",
   "execution_count": null,
   "id": "46c8ce9b",
   "metadata": {},
   "outputs": [],
   "source": [
    "#############################################################################################################################################"
   ]
  }
 ],
 "metadata": {
  "kernelspec": {
   "display_name": "Python 3 (ipykernel)",
   "language": "python",
   "name": "python3"
  },
  "language_info": {
   "codemirror_mode": {
    "name": "ipython",
    "version": 3
   },
   "file_extension": ".py",
   "mimetype": "text/x-python",
   "name": "python",
   "nbconvert_exporter": "python",
   "pygments_lexer": "ipython3",
   "version": "3.9.12"
  }
 },
 "nbformat": 4,
 "nbformat_minor": 5
}
